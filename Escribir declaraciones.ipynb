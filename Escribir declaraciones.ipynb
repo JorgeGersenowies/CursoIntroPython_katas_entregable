{
 "cells": [
  {
   "cell_type": "code",
   "execution_count": 10,
   "metadata": {},
   "outputs": [
    {
     "name": "stdout",
     "output_type": "stream",
     "text": [
      "Alerta de asteroide con velicidad peligrosa\n",
      "el asteroide tiene una velocidad de 69km/s\n"
     ]
    }
   ],
   "source": [
    "# Añadir el código necesario para crear una variable que guarde la velocidad del asteroide.\n",
    "# Escribe una expresión de prueba para calcular si necesita una advertencia.\n",
    "# Agregue las instrucciones que se ejecutarán si la expresión de prueba es true o false.\n",
    "V_asteroide = 69\n",
    "if V_asteroide >= 25:\n",
    "    print(\"Alerta de asteroide con velicidad peligrosa\")\n",
    "    print (\"el asteroide tiene una velocidad de \"+str(V_asteroide)+ \"km/s\")\n",
    "\n",
    "else : \n",
    "    print(\"Asteroide con velicidad moderada\")\n",
    "    print(\"el asteroide tiene una velocidad de \"+str(V_asteroide)+ \"km/s\")\n",
    "\n"
   ]
  },
  {
   "cell_type": "code",
   "execution_count": 11,
   "metadata": {},
   "outputs": [
    {
     "name": "stdout",
     "output_type": "stream",
     "text": [
      "Una asteriode se acerca, no se verá su estela\n"
     ]
    }
   ],
   "source": [
    "# Agrega el código para crear una variable para un asteroide que viaja a 19 km/s\n",
    "# Escribe varias expresiones de prueba para determinar si puedes ver el rayo de luz desde la tierra\n",
    "# Agrega las instrucciones que se ejecutarán si las expresiones de prueba son True o False\n",
    "\n",
    "V_asteroide=19\n",
    "\n",
    "if V_asteroide >20:\n",
    "    print (\"Un asteriode se acerca, se puede observar su estela\")\n",
    "elif V_asteroide == 20:\n",
    "    print (\"Un asteriode se acerca, se puede observar su estela\")\n",
    "else :\n",
    "    print (\"Un asteriode se acerca, no se verá su estela\")"
   ]
  },
  {
   "cell_type": "code",
   "execution_count": 15,
   "metadata": {},
   "outputs": [
    {
     "name": "stdout",
     "output_type": "stream",
     "text": [
      "¡Peligro!\n",
      "Un asteriode se acerca, con velocidad 30km/s y tamaño 30m.\n"
     ]
    }
   ],
   "source": [
    "# Agrega el código para crear nuevas variables para la velocidad y el tamaño del asteroide\n",
    "# Para probar el código, prueba con varias velocidades y tamaños\n",
    "# Escribe varias expresiones de prueba o combinaciones de expresiones de prueba para determinar qué mensaje se debe enviar a Tierra.\n",
    "V_asteroide = 30\n",
    "T_asteroide = 30\n",
    "\n",
    "if V_asteroide > 25 and T_asteroide > 25 :\n",
    "    print (\"¡Peligro!\")\n",
    "    print (\"Un asteriode se acerca, con velocidad \"+ str(V_asteroide)+\"km/s y tamaño \"+ str(T_asteroide)+\"m.\")\n",
    "elif V_asteroide >=20:\n",
    "    print (\"Un asteriode se acerca, se puede observar su estela\")\n",
    "elif T_asteroide <25:\n",
    "    print (\"Un asteriode se acerca, no se verá su estela\")\n",
    "else:\n",
    "    print (\"Un asteriode se acerca, no se verá su estela\")\n"
   ]
  }
 ],
 "metadata": {
  "interpreter": {
   "hash": "65efb7ffb00c85775361f33e07aba5f53f88a975cdca5c9a5968f416530f86c9"
  },
  "kernelspec": {
   "display_name": "Python 3.10.2 64-bit",
   "language": "python",
   "name": "python3"
  },
  "language_info": {
   "codemirror_mode": {
    "name": "ipython",
    "version": 3
   },
   "file_extension": ".py",
   "mimetype": "text/x-python",
   "name": "python",
   "nbconvert_exporter": "python",
   "pygments_lexer": "ipython3",
   "version": "3.10.2"
  },
  "orig_nbformat": 4
 },
 "nbformat": 4,
 "nbformat_minor": 2
}
