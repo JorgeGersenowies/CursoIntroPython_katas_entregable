{
 "cells": [
  {
   "cell_type": "code",
   "execution_count": null,
   "metadata": {},
   "outputs": [],
   "source": [
    "huevo=3\n",
    "leche=1.5\n",
    "mantequilla=0.045\n",
    "harina=3\n",
    "cditaVainilla=0.015"
   ]
  },
  {
   "cell_type": "markdown",
   "metadata": {},
   "source": [
    "Programando Hotcakes"
   ]
  },
  {
   "cell_type": "code",
   "execution_count": 1,
   "metadata": {},
   "outputs": [],
   "source": [
    "huevo=3\n",
    "leche=1.5\n",
    "mantequilla=0.045\n",
    "harina=3\n",
    "cditaVainilla=0.015\n",
    "#Asignamos los espacios en la memoria del programa para los ingredientes"
   ]
  },
  {
   "cell_type": "code",
   "execution_count": 4,
   "metadata": {},
   "outputs": [
    {
     "name": "stdout",
     "output_type": "stream",
     "text": [
      "çantidad de leche: 1.5\n",
      "Cantidad de huevo: 3\n"
     ]
    }
   ],
   "source": [
    "print('çantidad de leche: '+str(leche)+'\\n'+'Cantidad de huevo: '+str(huevo))\n"
   ]
  },
  {
   "cell_type": "code",
   "execution_count": 6,
   "metadata": {},
   "outputs": [
    {
     "name": "stdout",
     "output_type": "stream",
     "text": [
      "7.56\n"
     ]
    }
   ],
   "source": [
    "# mexclamos los ingredientes\n",
    "mezcla = huevo+leche+mantequilla+harina+cditaVainilla\n",
    "print (mezcla)\n"
   ]
  },
  {
   "cell_type": "code",
   "execution_count": 9,
   "metadata": {},
   "outputs": [
    {
     "name": "stdout",
     "output_type": "stream",
     "text": [
      "la cantidad de huevo es correcta\n"
     ]
    }
   ],
   "source": [
    "\"\"\"\"\"\n",
    "huevo=3\n",
    "leche=1.5\n",
    "mantequilla=0.045\n",
    "harina=3\n",
    "cditaVainilla=0.015\n",
    "\"\"\"\n",
    "if (huevo == 3 ):\n",
    "    print(\"la cantidad de huevo es correcta\")\n",
    "elif (leche == 1.5):\n",
    "    print (\"la cantidad de leche es correcta\")\n",
    "elif (mantequilla == 0.045 ):\n",
    "    print(\"la cantidad de mantequilla es correcta\")\n",
    "elif (harina==3 ):\n",
    "    print(\"la cantidad de harina es correcta\")\n",
    "else :\n",
    "    print(\"revisa tus ingredientes\")\n"
   ]
  },
  {
   "cell_type": "code",
   "execution_count": 10,
   "metadata": {},
   "outputs": [
    {
     "name": "stdout",
     "output_type": "stream",
     "text": [
      "La mezcla alcanzo para 2.52 hotcakes\n"
     ]
    }
   ],
   "source": [
    "porcion = mezcla /3\n",
    "print('La mezcla alcanzo para '+str(porcion)+' hotcakes')"
   ]
  },
  {
   "cell_type": "code",
   "execution_count": 26,
   "metadata": {},
   "outputs": [
    {
     "name": "stdout",
     "output_type": "stream",
     "text": [
      "hola\n"
     ]
    }
   ],
   "source": [
    "nombre='Hola'\n",
    "print (nombre.lower())\n"
   ]
  },
  {
   "cell_type": "code",
   "execution_count": 27,
   "metadata": {},
   "outputs": [
    {
     "name": "stdout",
     "output_type": "stream",
     "text": [
      "False\n",
      "Hola\n"
     ]
    }
   ],
   "source": [
    "print(nombre.islower())\n",
    "print(nombre)"
   ]
  },
  {
   "cell_type": "code",
   "execution_count": 44,
   "metadata": {},
   "outputs": [
    {
     "name": "stdout",
     "output_type": "stream",
     "text": [
      "ada                 lovelace     \n"
     ]
    }
   ],
   "source": [
    "firts_name='ada'\n",
    "last_name='                lovelace     '\n",
    "print (firts_name+\" \"+last_name)\n"
   ]
  },
  {
   "cell_type": "code",
   "execution_count": 45,
   "metadata": {},
   "outputs": [
    {
     "name": "stdout",
     "output_type": "stream",
     "text": [
      "ada lovelace     \n"
     ]
    }
   ],
   "source": [
    "print (firts_name+\" \"+last_name.lstrip())"
   ]
  },
  {
   "cell_type": "code",
   "execution_count": 46,
   "metadata": {},
   "outputs": [
    {
     "name": "stdout",
     "output_type": "stream",
     "text": [
      "['lovelace']\n"
     ]
    }
   ],
   "source": [
    "last_name=last_name.lstrip()\n",
    "last_name=last_name.rsplit()\n",
    "print (last_name)"
   ]
  },
  {
   "cell_type": "code",
   "execution_count": 63,
   "metadata": {},
   "outputs": [
    {
     "data": {
      "text/plain": [
       "'huevo'"
      ]
     },
     "execution_count": 63,
     "metadata": {},
     "output_type": "execute_result"
    }
   ],
   "source": [
    "ingredientes = ['huevo','harina','leche']\n",
    "ingredientes [0]"
   ]
  },
  {
   "cell_type": "code",
   "execution_count": 64,
   "metadata": {},
   "outputs": [
    {
     "data": {
      "text/plain": [
       "['huevo', 'harina', 'leche', 'mantequilla']"
      ]
     },
     "execution_count": 64,
     "metadata": {},
     "output_type": "execute_result"
    }
   ],
   "source": [
    "ingredientes.append('mantequilla')\n",
    "ingredientes"
   ]
  },
  {
   "cell_type": "code",
   "execution_count": 65,
   "metadata": {},
   "outputs": [
    {
     "name": "stdout",
     "output_type": "stream",
     "text": [
      "['harina', 'leche', 'mantequilla']\n"
     ]
    },
    {
     "data": {
      "text/plain": [
       "['huevo', 'harina', 'leche', 'mantequilla']"
      ]
     },
     "execution_count": 65,
     "metadata": {},
     "output_type": "execute_result"
    }
   ],
   "source": [
    "ingredientes.pop(0)\n",
    "print(ingredientes)\n",
    "ingredientes.insert(0,'huevo')\n",
    "ingredientes"
   ]
  },
  {
   "cell_type": "code",
   "execution_count": 67,
   "metadata": {},
   "outputs": [
    {
     "name": "stdout",
     "output_type": "stream",
     "text": [
      "['huevo', 'harina', 'vainilla', 'vainilla', 'leche', 'mantequilla']\n"
     ]
    }
   ],
   "source": [
    "ingredientes.insert(2,'vainilla')\n",
    "print(ingredientes)"
   ]
  },
  {
   "cell_type": "code",
   "execution_count": 68,
   "metadata": {},
   "outputs": [
    {
     "name": "stdout",
     "output_type": "stream",
     "text": [
      "['huevo', 'harina', 'vainilla', 'leche', 'mantequilla']\n"
     ]
    }
   ],
   "source": [
    "ingredientes.pop(3)\n",
    "print(ingredientes)"
   ]
  },
  {
   "cell_type": "code",
   "execution_count": 69,
   "metadata": {},
   "outputs": [
    {
     "name": "stdout",
     "output_type": "stream",
     "text": [
      "['huevo', 'vainilla', 'leche', 'mantequilla']\n"
     ]
    }
   ],
   "source": [
    "#Remove\n",
    "ingredientes.remove('harina')\n",
    "print(ingredientes)"
   ]
  },
  {
   "cell_type": "code",
   "execution_count": 70,
   "metadata": {},
   "outputs": [
    {
     "name": "stdout",
     "output_type": "stream",
     "text": [
      "['huevo', 'leche', 'mantequilla', 'vainilla']\n"
     ]
    }
   ],
   "source": [
    "#sort\n",
    "ingredientes.sort()\n",
    "print(ingredientes)"
   ]
  },
  {
   "cell_type": "code",
   "execution_count": 71,
   "metadata": {},
   "outputs": [
    {
     "name": "stdout",
     "output_type": "stream",
     "text": [
      "['vainilla', 'mantequilla', 'leche', 'huevo']\n"
     ]
    }
   ],
   "source": [
    "#reverse\n",
    "ingredientes.reverse()\n",
    "print(ingredientes)"
   ]
  },
  {
   "cell_type": "code",
   "execution_count": 72,
   "metadata": {},
   "outputs": [
    {
     "data": {
      "text/plain": [
       "4"
      ]
     },
     "execution_count": 72,
     "metadata": {},
     "output_type": "execute_result"
    }
   ],
   "source": [
    "len(ingredientes)"
   ]
  },
  {
   "cell_type": "code",
   "execution_count": 73,
   "metadata": {},
   "outputs": [
    {
     "name": "stdout",
     "output_type": "stream",
     "text": [
      "huevo\n"
     ]
    }
   ],
   "source": [
    "print(ingredientes[-1])"
   ]
  },
  {
   "cell_type": "code",
   "execution_count": 74,
   "metadata": {},
   "outputs": [
    {
     "data": {
      "text/plain": [
       "['vainilla', 'mantequilla']"
      ]
     },
     "execution_count": 74,
     "metadata": {},
     "output_type": "execute_result"
    }
   ],
   "source": [
    "primeros_dos=ingredientes[:2]\n",
    "primeros_dos"
   ]
  },
  {
   "cell_type": "code",
   "execution_count": 76,
   "metadata": {},
   "outputs": [
    {
     "data": {
      "text/plain": [
       "['vainilla', 'mantequilla', 'leche', 'huevo']"
      ]
     },
     "execution_count": 76,
     "metadata": {},
     "output_type": "execute_result"
    }
   ],
   "source": [
    "copy_list=ingredientes[:]\n",
    "copy_list"
   ]
  },
  {
   "cell_type": "code",
   "execution_count": 78,
   "metadata": {},
   "outputs": [
    {
     "data": {
      "text/plain": [
       "720"
      ]
     },
     "execution_count": 78,
     "metadata": {},
     "output_type": "execute_result"
    }
   ],
   "source": [
    "#tupla\n",
    "dimensiones=(1080,720)\n",
    "dimensiones[1]"
   ]
  },
  {
   "cell_type": "code",
   "execution_count": 82,
   "metadata": {},
   "outputs": [
    {
     "name": "stdout",
     "output_type": "stream",
     "text": [
      "dimenciones originales (1080, 720)\n",
      "1080\n",
      "720\n",
      "dimenciones cambiadas \n",
      "1080\n",
      "1080\n"
     ]
    }
   ],
   "source": [
    "print('dimenciones originales '+str(dimensiones))\n",
    "for d in dimensiones:\n",
    "    print(d)\n",
    "dimensiones=(1080,1080)\n",
    "print('dimenciones cambiadas ')\n",
    "for d in dimensiones:\n",
    "    print(d)\n",
    "\n",
    "\n"
   ]
  },
  {
   "cell_type": "code",
   "execution_count": 83,
   "metadata": {},
   "outputs": [
    {
     "name": "stdout",
     "output_type": "stream",
     "text": [
      "vainilla\n",
      "mantequilla\n",
      "leche\n",
      "huevo\n"
     ]
    }
   ],
   "source": [
    "for i in ingredientes:\n",
    "    print (i)\n"
   ]
  },
  {
   "cell_type": "code",
   "execution_count": 85,
   "metadata": {},
   "outputs": [
    {
     "name": "stdout",
     "output_type": "stream",
     "text": [
      "Añadiendo ingredientes a la orden: crema de chocolate\n",
      "Añadiendo ingredientes a la orden: chispas\n",
      "Añadiendo ingredientes a la orden: relleno de crema\n",
      "No tenemos nueces, puede agregar almendras\n",
      "Añadiendo ingredientes a la orden: nueces\n"
     ]
    }
   ],
   "source": [
    "el_cliente_quiere = ['crema de chocolate','chispas', 'relleno de crema','nueces']\n",
    "for extra in el_cliente_quiere:\n",
    "    if extra == 'nueces':\n",
    "        print ('No tenemos nueces, puede agregar almendras')\n",
    "-    print(f'Añadiendo ingredientes a la orden: {extra}')\n"
   ]
  }
 ],
 "metadata": {
  "interpreter": {
   "hash": "65efb7ffb00c85775361f33e07aba5f53f88a975cdca5c9a5968f416530f86c9"
  },
  "kernelspec": {
   "display_name": "Python 3.10.2 64-bit",
   "language": "python",
   "name": "python3"
  },
  "language_info": {
   "codemirror_mode": {
    "name": "ipython",
    "version": 3
   },
   "file_extension": ".py",
   "mimetype": "text/x-python",
   "name": "python",
   "nbconvert_exporter": "python",
   "pygments_lexer": "ipython3",
   "version": "3.10.2"
  },
  "orig_nbformat": 4
 },
 "nbformat": 4,
 "nbformat_minor": 2
}
